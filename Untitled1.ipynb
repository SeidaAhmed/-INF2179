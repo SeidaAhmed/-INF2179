{
  "nbformat": 4,
  "nbformat_minor": 0,
  "metadata": {
    "colab": {
      "provenance": [],
      "authorship_tag": "ABX9TyM0Iqsx3iVlwEJ/g2U52DIx",
      "include_colab_link": true
    },
    "kernelspec": {
      "name": "python3",
      "display_name": "Python 3"
    },
    "language_info": {
      "name": "python"
    }
  },
  "cells": [
    {
      "cell_type": "markdown",
      "metadata": {
        "id": "view-in-github",
        "colab_type": "text"
      },
      "source": [
        "<a href=\"https://colab.research.google.com/github/SeidaAhmed/An-application-of-Machine-Learning-to-COVID-19-data/blob/main/Untitled1.ipynb\" target=\"_parent\"><img src=\"https://colab.research.google.com/assets/colab-badge.svg\" alt=\"Open In Colab\"/></a>"
      ]
    },
    {
      "cell_type": "code",
      "execution_count": 25,
      "metadata": {
        "id": "VuBGKYgH-3lU"
      },
      "outputs": [],
      "source": []
    },
    {
      "cell_type": "code",
      "source": [
        "import numpy as np\n",
        "import torch\n",
        " # initializing a numpy array\n",
        "a = np.array(1)\n",
        " # initializing a tensor\n",
        "b = torch.tensor(1)\n",
        "print(a)\n",
        " # prints '1'\n",
        "print(b)\n",
        "   # prints 'tensor(1)'"
      ],
      "metadata": {
        "colab": {
          "base_uri": "https://localhost:8080/"
        },
        "id": "dVfKbqjl--yr",
        "outputId": "f4011156-0ffc-44a4-e432-a666e67a4683"
      },
      "execution_count": 26,
      "outputs": [
        {
          "output_type": "stream",
          "name": "stdout",
          "text": [
            "1\n",
            "tensor(1)\n"
          ]
        }
      ]
    },
    {
      "cell_type": "markdown",
      "source": [
        "Create constant tensors A (size: 3 by 3), B (size: 3 by 3), C (size: 3 by 2), and a variable\n",
        "tensor VD (size: 3 by 3). Use any integers between 0 to 5 to create the tensors, and\n",
        "make sure that all the tensors are different from one another."
      ],
      "metadata": {
        "id": "LQGVRjQoLZ6y"
      }
    },
    {
      "cell_type": "code",
      "source": [
        "import tensorflow as tf\n",
        "A=tf.constant([[3, 2, 1],\n",
        "               [5,2,0],\n",
        "              [2,3,1]])\n",
        "print(('Tensor A:\\n{0}\\n').format(A.numpy()))\n",
        "B=tf.constant([[1,3,0],\n",
        "               [2,3,0],\n",
        "               [1,2,1]])\n",
        "print((\"Tensor B:\\n{0}\\n\").format(B.numpy()))\n",
        "\n",
        "c=tf.constant([[1,2],\n",
        "               [1,3],\n",
        "               [4,2]])\n",
        "print(('Tensor C:\\n{0}\\n').format(c.numpy()))\n",
        "\n",
        "VD=tf.Variable([[2,3,1],\n",
        "                [1,5,4],\n",
        "                [1,4,5]])\n",
        "print(('Tensor(variable) VD:\\n{0}\\n').format(VD.numpy()))"
      ],
      "metadata": {
        "colab": {
          "base_uri": "https://localhost:8080/"
        },
        "id": "A1viGF9ILc0K",
        "outputId": "bc93af38-fac5-4ffe-ec9f-c4f9cfbf03f5"
      },
      "execution_count": 27,
      "outputs": [
        {
          "output_type": "stream",
          "name": "stdout",
          "text": [
            "Tensor A:\n",
            "[[3 2 1]\n",
            " [5 2 0]\n",
            " [2 3 1]]\n",
            "\n",
            "Tensor B:\n",
            "[[1 3 0]\n",
            " [2 3 0]\n",
            " [1 2 1]]\n",
            "\n",
            "Tensor C:\n",
            "[[1 2]\n",
            " [1 3]\n",
            " [4 2]]\n",
            "\n",
            "Tensor(variable) VD:\n",
            "[[2 3 1]\n",
            " [1 5 4]\n",
            " [1 4 5]]\n",
            "\n"
          ]
        }
      ]
    },
    {
      "cell_type": "markdown",
      "source": [
        "Create tensor Z (size: 3 by 3) consisting of all zeros (using tf.zeros)."
      ],
      "metadata": {
        "id": "VCv-kMOuPP73"
      }
    },
    {
      "cell_type": "code",
      "source": [
        "Z=tf.zeros(shape=[3,3], dtype=tf.int32)\n",
        "print(('Tensor Z:\\n{0}\\n').format(Z.numpy()))"
      ],
      "metadata": {
        "colab": {
          "base_uri": "https://localhost:8080/"
        },
        "id": "JRbZ3_fkPRsa",
        "outputId": "d1196b79-4595-4b85-8b3e-90fa304298f5"
      },
      "execution_count": 28,
      "outputs": [
        {
          "output_type": "stream",
          "name": "stdout",
          "text": [
            "Tensor Z:\n",
            "[[0 0 0]\n",
            " [0 0 0]\n",
            " [0 0 0]]\n",
            "\n"
          ]
        }
      ]
    },
    {
      "cell_type": "markdown",
      "source": [
        "Create tensor E (size: 3 by 3) consisting of all ones (using tf.ones)"
      ],
      "metadata": {
        "id": "Tpmtq3E0QJel"
      }
    },
    {
      "cell_type": "code",
      "source": [
        "E=tf.ones(shape=[3,3], dtype=tf.int32)\n",
        "print(('Tesnor E:\\n{0}\\n').format(E.numpy()))"
      ],
      "metadata": {
        "colab": {
          "base_uri": "https://localhost:8080/"
        },
        "id": "DKotpYIZQQ3_",
        "outputId": "404821bb-2a43-4e89-8001-f467de0c5f56"
      },
      "execution_count": 29,
      "outputs": [
        {
          "output_type": "stream",
          "name": "stdout",
          "text": [
            "Tesnor E:\n",
            "[[1 1 1]\n",
            " [1 1 1]\n",
            " [1 1 1]]\n",
            "\n"
          ]
        }
      ]
    },
    {
      "cell_type": "markdown",
      "source": [
        "Create tensor I (size: 3 by 3) consisting of all integer ones in diagonals and zeros\n",
        "elsewhere (using tf.eye)."
      ],
      "metadata": {
        "id": "nnBHdWxeQylF"
      }
    },
    {
      "cell_type": "code",
      "source": [
        "I=tf.eye(3,3, dtype=tf.int32)\n",
        "print(('Tensor I:\\n{0}\\n').format(I.numpy()))"
      ],
      "metadata": {
        "colab": {
          "base_uri": "https://localhost:8080/"
        },
        "id": "LodxyzhTQ1e8",
        "outputId": "822f9e2c-3b6d-47ea-fe35-4a05a27b51ca"
      },
      "execution_count": 30,
      "outputs": [
        {
          "output_type": "stream",
          "name": "stdout",
          "text": [
            "Tensor I:\n",
            "[[1 0 0]\n",
            " [0 1 0]\n",
            " [0 0 1]]\n",
            "\n"
          ]
        }
      ]
    },
    {
      "cell_type": "markdown",
      "source": [
        "Create tensor F (size: 3 by 1) consisting of all integer ones in diagonals and zeros\n",
        "elsewhere (using tf.eye)."
      ],
      "metadata": {
        "id": "a9PO4KaMROu9"
      }
    },
    {
      "cell_type": "code",
      "source": [
        "F=tf.eye(3,1, dtype=tf.int32)\n",
        "print(('Tensor F:\\n{0}\\n').format(F.numpy()))"
      ],
      "metadata": {
        "colab": {
          "base_uri": "https://localhost:8080/"
        },
        "id": "rP1NvUT3RPqD",
        "outputId": "0f22b3a0-8079-4412-ff39-0fd63e83780b"
      },
      "execution_count": 31,
      "outputs": [
        {
          "output_type": "stream",
          "name": "stdout",
          "text": [
            "Tensor F:\n",
            "[[1]\n",
            " [0]\n",
            " [0]]\n",
            "\n"
          ]
        }
      ]
    },
    {
      "cell_type": "markdown",
      "source": [
        "2. Implement the following operations on the tensors defined in question 1.\n",
        "a. Reshape tensor A you created in part (a) as a 9 by 1 tensor and store it as\n",
        "reshaped_A. Print both tensors A and reshaped_A."
      ],
      "metadata": {
        "id": "d9GARoZJRcWW"
      }
    },
    {
      "cell_type": "code",
      "source": [
        "reshaped_A=tf.reshape(tensor=A, shape=[9,1])\n",
        "print(('Tesnor Before reshape:\\n{0}').format(A.numpy()))\n",
        "print(('Tensor After reshape:\\n{0}').format(reshaped_A.numpy()))\n"
      ],
      "metadata": {
        "colab": {
          "base_uri": "https://localhost:8080/"
        },
        "id": "Ot09ttX-RfAT",
        "outputId": "95dc13b4-6d02-46f3-f245-16fc93ecfcdb"
      },
      "execution_count": 32,
      "outputs": [
        {
          "output_type": "stream",
          "name": "stdout",
          "text": [
            "Tesnor Before reshape:\n",
            "[[3 2 1]\n",
            " [5 2 0]\n",
            " [2 3 1]]\n",
            "Tensor After reshape:\n",
            "[[3]\n",
            " [2]\n",
            " [1]\n",
            " [5]\n",
            " [2]\n",
            " [0]\n",
            " [2]\n",
            " [3]\n",
            " [1]]\n"
          ]
        }
      ]
    },
    {
      "cell_type": "markdown",
      "source": [
        "Cast tensor A as float32 and save it as float_A. Print both A and float_A"
      ],
      "metadata": {
        "id": "qXhFtBEsnEgx"
      }
    },
    {
      "cell_type": "code",
      "source": [],
      "metadata": {
        "id": "ofO_4Px-nL4O"
      },
      "execution_count": 32,
      "outputs": []
    },
    {
      "cell_type": "code",
      "source": [
        "float_A=tf.cast(A, tf.float32)\n",
        "print(('tensor with in:\\n{0}').format(A.numpy()))\n",
        "print(('tensor with float:\\n{0}').format(float_A.numpy()))"
      ],
      "metadata": {
        "colab": {
          "base_uri": "https://localhost:8080/"
        },
        "id": "GbrnJ2AsnHVh",
        "outputId": "1772632c-c507-4ffb-e64c-2e1a194a2031"
      },
      "execution_count": 33,
      "outputs": [
        {
          "output_type": "stream",
          "name": "stdout",
          "text": [
            "tensor with in:\n",
            "[[3 2 1]\n",
            " [5 2 0]\n",
            " [2 3 1]]\n",
            "tensor with float:\n",
            "[[3. 2. 1.]\n",
            " [5. 2. 0.]\n",
            " [2. 3. 1.]]\n"
          ]
        }
      ]
    },
    {
      "cell_type": "markdown",
      "source": [
        "Concatenate tensor A and C column-wise to create a 3 by 5 tensor and save it as\n",
        "concat_A_C. Print concat_A_C to screen."
      ],
      "metadata": {
        "id": "VtxY8LrFnnQO"
      }
    },
    {
      "cell_type": "code",
      "source": [
        "concat_A_c=tf.concat(values=[A,c], axis=1)\n",
        "print(('Adding C\\'s columns to A:\\n{0}').format(concat_A_c.numpy()))\n"
      ],
      "metadata": {
        "colab": {
          "base_uri": "https://localhost:8080/"
        },
        "id": "5-dfFrUlno27",
        "outputId": "886e5d7e-8eea-432c-8939-74ec264c8467"
      },
      "execution_count": 34,
      "outputs": [
        {
          "output_type": "stream",
          "name": "stdout",
          "text": [
            "Adding C's columns to A:\n",
            "[[3 2 1 1 2]\n",
            " [5 2 0 1 3]\n",
            " [2 3 1 4 2]]\n"
          ]
        }
      ]
    },
    {
      "cell_type": "markdown",
      "source": [
        "Transpose tensor C to obtain a 2 by 3 tensor and save it as transpose_C. Print\n",
        "transpose_C to screen.\n"
      ],
      "metadata": {
        "id": "gspApBFJteXC"
      }
    },
    {
      "cell_type": "code",
      "source": [
        "transpose_c=tf.transpose(c)\n",
        "print(('transpose_C:\\n{0}').format(transpose_c))"
      ],
      "metadata": {
        "colab": {
          "base_uri": "https://localhost:8080/"
        },
        "id": "8syBoK6gtv0v",
        "outputId": "749f13cd-19ca-4281-b516-b0f567276621"
      },
      "execution_count": 35,
      "outputs": [
        {
          "output_type": "stream",
          "name": "stdout",
          "text": [
            "transpose_C:\n",
            "[[1 1 4]\n",
            " [2 3 2]]\n"
          ]
        }
      ]
    },
    {
      "cell_type": "markdown",
      "source": [
        "Multiply tensors A and B using tf.matmul, and print the resulting tensor to screen.\n",
        "Then, multiply tensors A and C using tf.matmul, and print the resulting tensor to\n",
        "screen. What happens if you use tf.matmul to multiply A and transpose_C?"
      ],
      "metadata": {
        "id": "Tz-vUNCIv7V9"
      }
    },
    {
      "cell_type": "code",
      "source": [
        "matmul_A_B=tf.matmul(A,B)\n",
        "print(('Matrix Multiplication of A and B:{0}').format(matmul_A_B.numpy()))\n",
        "matmul_A_C=tf.matmul(A,c)\n",
        "print(('Matrix Multiplication of A and C:{0}').format(matmul_A_C.numpy()))"
      ],
      "metadata": {
        "colab": {
          "base_uri": "https://localhost:8080/"
        },
        "id": "3EDXvJg9v8J4",
        "outputId": "2fb97dfb-ed53-44a9-d754-7794c8ce4f13"
      },
      "execution_count": 36,
      "outputs": [
        {
          "output_type": "stream",
          "name": "stdout",
          "text": [
            "Matrix Multiplication of A and B:[[ 8 17  1]\n",
            " [ 9 21  0]\n",
            " [ 9 17  1]]\n",
            "Matrix Multiplication of A and C:[[ 9 14]\n",
            " [ 7 16]\n",
            " [ 9 15]]\n"
          ]
        }
      ]
    },
    {
      "cell_type": "markdown",
      "source": [
        "Multiply tensors A with F element-wise, and print the resulting tensor to screen."
      ],
      "metadata": {
        "id": "sTR-rB5Iwn0u"
      }
    },
    {
      "cell_type": "code",
      "source": [
        "elementwise_A_F=tf.multiply(A,F)\n",
        "print(('Elementwise Multiplication of A and F:{0}').format(elementwise_A_F.numpy()))"
      ],
      "metadata": {
        "colab": {
          "base_uri": "https://localhost:8080/"
        },
        "id": "W_ECljyiwtZv",
        "outputId": "11d85a1c-515e-4d55-d331-ec0ee1cee1f7"
      },
      "execution_count": 37,
      "outputs": [
        {
          "output_type": "stream",
          "name": "stdout",
          "text": [
            "Elementwise Multiplication of A and F:[[3 2 1]\n",
            " [0 0 0]\n",
            " [0 0 0]]\n"
          ]
        }
      ]
    },
    {
      "cell_type": "markdown",
      "source": [
        "Perform the dot product of tensor A and C, and print the resulting tensor to screen"
      ],
      "metadata": {
        "id": "3N-l32VSxLO6"
      }
    },
    {
      "cell_type": "code",
      "source": [
        "dot_AC = tf.tensordot(a=A, b=c, axes=1).numpy()\n",
        "print(('Dot product of A and C results in a newTensor:\\n{0}').format(dot_AC))"
      ],
      "metadata": {
        "colab": {
          "base_uri": "https://localhost:8080/"
        },
        "id": "H1GQU0tgxMqe",
        "outputId": "b2e333f1-43e5-4374-bca1-6984418420e1"
      },
      "execution_count": 40,
      "outputs": [
        {
          "output_type": "stream",
          "name": "stdout",
          "text": [
            "Dot product of A and C results in a newTensor:\n",
            "[[ 9 14]\n",
            " [ 7 16]\n",
            " [ 9 15]]\n"
          ]
        }
      ]
    },
    {
      "cell_type": "markdown",
      "source": [
        "Lab 2"
      ],
      "metadata": {
        "id": "tNGPVd7yx2sr"
      }
    },
    {
      "cell_type": "markdown",
      "source": [
        "n this lab, you will learn to implement neural networks for regression and classification problems\n",
        "using Dense layers and validate the results.\n",
        "A number of libraries need to be imported and some preprocessing steps should be implemented\n",
        "on the data. These codes are given below:"
      ],
      "metadata": {
        "id": "oaGMQxvrx4xu"
      }
    },
    {
      "cell_type": "code",
      "source": [
        "import sys\n",
        "print(sys.version)\n",
        "import os\n",
        "os.environ[\"CUDA_VISIBLE_DEVICES\"] = \"-1\" # Force TF to use only the CPU\n",
        "import tensorflow as tf\n",
        "print(tf.__version__)\n",
        "print(tf.keras.__version__)\n",
        "import keras\n",
        "print(keras.__version__)\n",
        "import numpy as np\n",
        "print(np.__version__)\n",
        "import matplotlib.pyplot as plt\n"
      ],
      "metadata": {
        "colab": {
          "base_uri": "https://localhost:8080/"
        },
        "id": "0q5oHpePx6UI",
        "outputId": "20aa8203-cc03-436a-bdd7-cbf0531bf59e"
      },
      "execution_count": 41,
      "outputs": [
        {
          "output_type": "stream",
          "name": "stdout",
          "text": [
            "3.11.11 (main, Dec  4 2024, 08:55:07) [GCC 11.4.0]\n",
            "2.18.0\n",
            "3.8.0\n",
            "3.8.0\n",
            "1.26.4\n"
          ]
        }
      ]
    },
    {
      "cell_type": "code",
      "source": [
        "from keras import layers\n",
        "# from tensorflow.keras import layers # alternative way to access keras\n",
        "from keras import models\n",
        "from keras import layers\n",
        "from keras import optimizers"
      ],
      "metadata": {
        "id": "nRz3CxyRyOp_"
      },
      "execution_count": 42,
      "outputs": []
    },
    {
      "cell_type": "code",
      "source": [
        "from keras.datasets import boston_housing\n",
        "(train_data, train_targets), (test_data, test_targets) = boston_housing.load_data()\n",
        "print(\"train_data.shape\", train_data.shape)\n",
        "# normalize the data\n",
        "mean=train_data.mean(axis=0)\n",
        "train_data-=mean\n",
        "std=train_data.std(axis=0)\n",
        "train_data/=std\n",
        "test_data-=mean\n",
        "test_data/=std"
      ],
      "metadata": {
        "colab": {
          "base_uri": "https://localhost:8080/"
        },
        "id": "ODP51-pJym46",
        "outputId": "22f64311-e25c-4b26-bd68-f560c3ac051d"
      },
      "execution_count": 43,
      "outputs": [
        {
          "output_type": "stream",
          "name": "stdout",
          "text": [
            "Downloading data from https://storage.googleapis.com/tensorflow/tf-keras-datasets/boston_housing.npz\n",
            "\u001b[1m57026/57026\u001b[0m \u001b[32m━━━━━━━━━━━━━━━━━━━━\u001b[0m\u001b[37m\u001b[0m \u001b[1m0s\u001b[0m 0us/step\n",
            "train_data.shape (404, 13)\n"
          ]
        }
      ]
    }
  ]
}