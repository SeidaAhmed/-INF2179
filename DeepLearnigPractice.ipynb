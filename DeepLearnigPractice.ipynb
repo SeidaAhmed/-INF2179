{
  "nbformat": 4,
  "nbformat_minor": 0,
  "metadata": {
    "colab": {
      "provenance": [],
      "authorship_tag": "ABX9TyN6cDm+Pz15s1bmfxpV5Q5F",
      "include_colab_link": true
    },
    "kernelspec": {
      "name": "python3",
      "display_name": "Python 3"
    },
    "language_info": {
      "name": "python"
    }
  },
  "cells": [
    {
      "cell_type": "markdown",
      "metadata": {
        "id": "view-in-github",
        "colab_type": "text"
      },
      "source": [
        "<a href=\"https://colab.research.google.com/github/SeidaAhmed/An-application-of-Machine-Learning-to-COVID-19-data/blob/main/DeepLearnigPractice.ipynb\" target=\"_parent\"><img src=\"https://colab.research.google.com/assets/colab-badge.svg\" alt=\"Open In Colab\"/></a>"
      ]
    },
    {
      "cell_type": "code",
      "execution_count": 21,
      "metadata": {
        "id": "VuBGKYgH-3lU"
      },
      "outputs": [],
      "source": []
    },
    {
      "cell_type": "code",
      "source": [
        "import numpy as np\n",
        "import torch\n",
        " # initializing a numpy array\n",
        "a = np.array(1)\n",
        " # initializing a tensor\n",
        "b = torch.tensor(1)\n",
        "print(a)\n",
        " # prints '1'\n",
        "print(b)\n",
        "   # prints 'tensor(1)'"
      ],
      "metadata": {
        "colab": {
          "base_uri": "https://localhost:8080/"
        },
        "id": "dVfKbqjl--yr",
        "outputId": "5d7b774c-b836-4022-e29c-c26d0fedfbd3"
      },
      "execution_count": 22,
      "outputs": [
        {
          "output_type": "stream",
          "name": "stdout",
          "text": [
            "1\n",
            "tensor(1)\n"
          ]
        }
      ]
    },
    {
      "cell_type": "markdown",
      "source": [
        "Create constant tensors A (size: 3 by 3), B (size: 3 by 3), C (size: 3 by 2), and a variable\n",
        "tensor VD (size: 3 by 3). Use any integers between 0 to 5 to create the tensors, and\n",
        "make sure that all the tensors are different from one another."
      ],
      "metadata": {
        "id": "LQGVRjQoLZ6y"
      }
    },
    {
      "cell_type": "code",
      "source": [
        "import tensorflow as tf\n",
        "A=tf.constant([[3, 2, 1],\n",
        "               [5,2,0],\n",
        "              [2,3,1]])\n",
        "print(('Tensor A:\\n{0}\\n').format(A.numpy()))\n",
        "B=tf.constant([[1,3,0],\n",
        "               [2,3,0],\n",
        "               [1,2,1]])\n",
        "print((\"Tensor B:\\n{0}\\n\").format(B.numpy()))\n",
        "\n",
        "c=tf.constant([[1,2],\n",
        "               [1,3],\n",
        "               [4,2]])\n",
        "print(('Tensor C:\\n{0}\\n').format(c.numpy()))\n",
        "\n",
        "VD=tf.Variable([[2,3,1],\n",
        "                [1,5,4],\n",
        "                [1,4,5]])\n",
        "print(('Tensor(variable) VD:\\n{0}\\n').format(VD.numpy()))"
      ],
      "metadata": {
        "colab": {
          "base_uri": "https://localhost:8080/"
        },
        "id": "A1viGF9ILc0K",
        "outputId": "451c1e56-54a0-4cee-c9a8-9168e7c51efa"
      },
      "execution_count": 23,
      "outputs": [
        {
          "output_type": "stream",
          "name": "stdout",
          "text": [
            "Tensor A:\n",
            "[[3 2 1]\n",
            " [5 2 0]\n",
            " [2 3 1]]\n",
            "\n",
            "Tensor B:\n",
            "[[1 3 0]\n",
            " [2 3 0]\n",
            " [1 2 1]]\n",
            "\n",
            "Tensor C:\n",
            "[[1 2]\n",
            " [1 3]\n",
            " [4 2]]\n",
            "\n",
            "Tensor(variable) VD:\n",
            "[[2 3 1]\n",
            " [1 5 4]\n",
            " [1 4 5]]\n",
            "\n"
          ]
        }
      ]
    },
    {
      "cell_type": "markdown",
      "source": [
        "Create tensor Z (size: 3 by 3) consisting of all zeros (using tf.zeros)."
      ],
      "metadata": {
        "id": "VCv-kMOuPP73"
      }
    },
    {
      "cell_type": "code",
      "source": [
        "Z=tf.zeros(shape=[3,3], dtype=tf.int32)\n",
        "print(('Tensor Z:\\n{0}\\n').format(Z.numpy()))"
      ],
      "metadata": {
        "colab": {
          "base_uri": "https://localhost:8080/"
        },
        "id": "JRbZ3_fkPRsa",
        "outputId": "2484d41f-9163-4dc8-c56c-553324351e31"
      },
      "execution_count": 24,
      "outputs": [
        {
          "output_type": "stream",
          "name": "stdout",
          "text": [
            "Tensor Z:\n",
            "[[0 0 0]\n",
            " [0 0 0]\n",
            " [0 0 0]]\n",
            "\n"
          ]
        }
      ]
    },
    {
      "cell_type": "markdown",
      "source": [
        "Create tensor E (size: 3 by 3) consisting of all ones (using tf.ones)"
      ],
      "metadata": {
        "id": "Tpmtq3E0QJel"
      }
    },
    {
      "cell_type": "code",
      "source": [
        "E=tf.ones(shape=[3,3], dtype=tf.int32)\n",
        "print(('Tesnor E:\\n{0}\\n').format(E.numpy()))"
      ],
      "metadata": {
        "colab": {
          "base_uri": "https://localhost:8080/"
        },
        "id": "DKotpYIZQQ3_",
        "outputId": "d23b05d5-35e4-4c91-8c9a-83307b1f6164"
      },
      "execution_count": 25,
      "outputs": [
        {
          "output_type": "stream",
          "name": "stdout",
          "text": [
            "Tesnor E:\n",
            "[[1 1 1]\n",
            " [1 1 1]\n",
            " [1 1 1]]\n",
            "\n"
          ]
        }
      ]
    },
    {
      "cell_type": "markdown",
      "source": [
        "Create tensor I (size: 3 by 3) consisting of all integer ones in diagonals and zeros\n",
        "elsewhere (using tf.eye)."
      ],
      "metadata": {
        "id": "nnBHdWxeQylF"
      }
    },
    {
      "cell_type": "code",
      "source": [
        "I=tf.eye(3,3, dtype=tf.int32)\n",
        "print(('Tensor I:\\n{0}\\n').format(I.numpy()))"
      ],
      "metadata": {
        "colab": {
          "base_uri": "https://localhost:8080/"
        },
        "id": "LodxyzhTQ1e8",
        "outputId": "914d80a9-a884-4043-c7dd-68c46ba8394b"
      },
      "execution_count": 26,
      "outputs": [
        {
          "output_type": "stream",
          "name": "stdout",
          "text": [
            "Tensor I:\n",
            "[[1 0 0]\n",
            " [0 1 0]\n",
            " [0 0 1]]\n",
            "\n"
          ]
        }
      ]
    },
    {
      "cell_type": "markdown",
      "source": [
        "Create tensor F (size: 3 by 1) consisting of all integer ones in diagonals and zeros\n",
        "elsewhere (using tf.eye)."
      ],
      "metadata": {
        "id": "a9PO4KaMROu9"
      }
    },
    {
      "cell_type": "code",
      "source": [
        "F=tf.eye(3,1, dtype=tf.int32)\n",
        "print(('Tensor F:\\n{0}\\n').format(F.numpy()))"
      ],
      "metadata": {
        "colab": {
          "base_uri": "https://localhost:8080/"
        },
        "id": "rP1NvUT3RPqD",
        "outputId": "677ce61c-fd77-4737-c8f1-bb4369eed8c6"
      },
      "execution_count": 27,
      "outputs": [
        {
          "output_type": "stream",
          "name": "stdout",
          "text": [
            "Tensor F:\n",
            "[[1]\n",
            " [0]\n",
            " [0]]\n",
            "\n"
          ]
        }
      ]
    },
    {
      "cell_type": "markdown",
      "source": [
        "2. Implement the following operations on the tensors defined in question 1.\n",
        "a. Reshape tensor A you created in part (a) as a 9 by 1 tensor and store it as\n",
        "reshaped_A. Print both tensors A and reshaped_A."
      ],
      "metadata": {
        "id": "d9GARoZJRcWW"
      }
    },
    {
      "cell_type": "code",
      "source": [
        "reshaped_A=tf.reshape(tensor=A, shape=[9,1])\n",
        "print(('Tesnor Before reshape:\\n{0}').format(A.numpy()))\n",
        "print(('Tensor After reshape:\\n{0}').format(reshaped_A.numpy()))\n"
      ],
      "metadata": {
        "colab": {
          "base_uri": "https://localhost:8080/"
        },
        "id": "Ot09ttX-RfAT",
        "outputId": "50725e2e-b733-47d8-f078-38960112a436"
      },
      "execution_count": 28,
      "outputs": [
        {
          "output_type": "stream",
          "name": "stdout",
          "text": [
            "Tesnor Before reshape:\n",
            "[[3 2 1]\n",
            " [5 2 0]\n",
            " [2 3 1]]\n",
            "Tensor After reshape:\n",
            "[[3]\n",
            " [2]\n",
            " [1]\n",
            " [5]\n",
            " [2]\n",
            " [0]\n",
            " [2]\n",
            " [3]\n",
            " [1]]\n"
          ]
        }
      ]
    },
    {
      "cell_type": "markdown",
      "source": [
        "Cast tensor A as float32 and save it as float_A. Print both A and float_A"
      ],
      "metadata": {
        "id": "qXhFtBEsnEgx"
      }
    },
    {
      "cell_type": "code",
      "source": [],
      "metadata": {
        "id": "ofO_4Px-nL4O"
      },
      "execution_count": 28,
      "outputs": []
    },
    {
      "cell_type": "code",
      "source": [
        "float_A=tf.cast(A, tf.float32)\n",
        "print(('tensor with in:\\n{0}').format(A.numpy()))\n",
        "print(('tensor with float:\\n{0}').format(float_A.numpy()))"
      ],
      "metadata": {
        "colab": {
          "base_uri": "https://localhost:8080/"
        },
        "id": "GbrnJ2AsnHVh",
        "outputId": "2a661610-7ec8-4acb-dc7b-a8ff62e92cfa"
      },
      "execution_count": 29,
      "outputs": [
        {
          "output_type": "stream",
          "name": "stdout",
          "text": [
            "tensor with in:\n",
            "[[3 2 1]\n",
            " [5 2 0]\n",
            " [2 3 1]]\n",
            "tensor with float:\n",
            "[[3. 2. 1.]\n",
            " [5. 2. 0.]\n",
            " [2. 3. 1.]]\n"
          ]
        }
      ]
    },
    {
      "cell_type": "markdown",
      "source": [
        "Concatenate tensor A and C column-wise to create a 3 by 5 tensor and save it as\n",
        "concat_A_C. Print concat_A_C to screen."
      ],
      "metadata": {
        "id": "VtxY8LrFnnQO"
      }
    },
    {
      "cell_type": "code",
      "source": [
        "concat_A_c=tf.concat(values=[A,c], axis=1)\n",
        "print(('Adding C\\'s columns to A:\\n{0}').format(concat_A_c.numpy()))\n"
      ],
      "metadata": {
        "colab": {
          "base_uri": "https://localhost:8080/"
        },
        "id": "5-dfFrUlno27",
        "outputId": "1738ae1b-a76f-4796-8f87-cda4dc4f183f"
      },
      "execution_count": 30,
      "outputs": [
        {
          "output_type": "stream",
          "name": "stdout",
          "text": [
            "Adding C's columns to A:\n",
            "[[3 2 1 1 2]\n",
            " [5 2 0 1 3]\n",
            " [2 3 1 4 2]]\n"
          ]
        }
      ]
    },
    {
      "cell_type": "markdown",
      "source": [
        "Transpose tensor C to obtain a 2 by 3 tensor and save it as transpose_C. Print\n",
        "transpose_C to screen.\n"
      ],
      "metadata": {
        "id": "gspApBFJteXC"
      }
    },
    {
      "cell_type": "code",
      "source": [
        "transpose_c=tf.transpose(c)\n",
        "print(('transpose_C:\\n{0}').format(transpose_c))"
      ],
      "metadata": {
        "colab": {
          "base_uri": "https://localhost:8080/"
        },
        "id": "8syBoK6gtv0v",
        "outputId": "7d431785-0883-4f79-ab46-5f76d3ef70fe"
      },
      "execution_count": 31,
      "outputs": [
        {
          "output_type": "stream",
          "name": "stdout",
          "text": [
            "transpose_C:\n",
            "[[1 1 4]\n",
            " [2 3 2]]\n"
          ]
        }
      ]
    },
    {
      "cell_type": "markdown",
      "source": [
        "Multiply tensors A and B using tf.matmul, and print the resulting tensor to screen.\n",
        "Then, multiply tensors A and C using tf.matmul, and print the resulting tensor to\n",
        "screen. What happens if you use tf.matmul to multiply A and transpose_C?"
      ],
      "metadata": {
        "id": "Tz-vUNCIv7V9"
      }
    },
    {
      "cell_type": "code",
      "source": [
        "matmul_A_B=tf.matmul(A,B)\n",
        "print(('Matrix Multiplication of A and B:{0}').format(matmul_A_B.numpy()))\n",
        "matmul_A_C=tf.matmul(A,c)\n",
        "print(('Matrix Multiplication of A and C:{0}').format(matmul_A_C.numpy()))"
      ],
      "metadata": {
        "colab": {
          "base_uri": "https://localhost:8080/"
        },
        "id": "3EDXvJg9v8J4",
        "outputId": "78cd6a85-84eb-4b2e-d9b4-c2c42799a9f5"
      },
      "execution_count": 32,
      "outputs": [
        {
          "output_type": "stream",
          "name": "stdout",
          "text": [
            "Matrix Multiplication of A and B:[[ 8 17  1]\n",
            " [ 9 21  0]\n",
            " [ 9 17  1]]\n",
            "Matrix Multiplication of A and C:[[ 9 14]\n",
            " [ 7 16]\n",
            " [ 9 15]]\n"
          ]
        }
      ]
    },
    {
      "cell_type": "markdown",
      "source": [
        "Multiply tensors A with F element-wise, and print the resulting tensor to screen."
      ],
      "metadata": {
        "id": "sTR-rB5Iwn0u"
      }
    },
    {
      "cell_type": "code",
      "source": [
        "elementwise_A_F=tf.multiply(A,F)\n",
        "print(('Elementwise Multiplication of A and F:{0}').format(elementwise_A_F.numpy()))"
      ],
      "metadata": {
        "colab": {
          "base_uri": "https://localhost:8080/"
        },
        "id": "W_ECljyiwtZv",
        "outputId": "a8593dc0-25a0-4c8e-b6cb-4f4d20724db1"
      },
      "execution_count": 33,
      "outputs": [
        {
          "output_type": "stream",
          "name": "stdout",
          "text": [
            "Elementwise Multiplication of A and F:[[3 2 1]\n",
            " [0 0 0]\n",
            " [0 0 0]]\n"
          ]
        }
      ]
    },
    {
      "cell_type": "markdown",
      "source": [
        "Perform the dot product of tensor A and C, and print the resulting tensor to screen"
      ],
      "metadata": {
        "id": "3N-l32VSxLO6"
      }
    },
    {
      "cell_type": "code",
      "source": [
        "dot_AC = tf.tensordot(a=A, b=c, axes=1).numpy()\n",
        "print(('Dot product of A and C results in a newTensor:\\n{0}').format(dot_AC))"
      ],
      "metadata": {
        "colab": {
          "base_uri": "https://localhost:8080/"
        },
        "id": "H1GQU0tgxMqe",
        "outputId": "c7d2ea29-6cc4-4402-f156-090493857b38"
      },
      "execution_count": 34,
      "outputs": [
        {
          "output_type": "stream",
          "name": "stdout",
          "text": [
            "Dot product of A and C results in a newTensor:\n",
            "[[ 9 14]\n",
            " [ 7 16]\n",
            " [ 9 15]]\n"
          ]
        }
      ]
    },
    {
      "cell_type": "markdown",
      "source": [
        "Lab 2"
      ],
      "metadata": {
        "id": "tNGPVd7yx2sr"
      }
    },
    {
      "cell_type": "markdown",
      "source": [
        "n this lab, you will learn to implement neural networks for regression and classification problems\n",
        "using Dense layers and validate the results.\n",
        "A number of libraries need to be imported and some preprocessing steps should be implemented\n",
        "on the data. These codes are given below:"
      ],
      "metadata": {
        "id": "oaGMQxvrx4xu"
      }
    },
    {
      "cell_type": "code",
      "source": [
        "import sys\n",
        "print(sys.version)\n",
        "import os\n",
        "os.environ[\"CUDA_VISIBLE_DEVICES\"] = \"-1\" # Force TF to use only the CPU\n",
        "import tensorflow as tf\n",
        "print(tf.__version__)\n",
        "print(tf.keras.__version__)\n",
        "import keras\n",
        "print(keras.__version__)\n",
        "import numpy as np\n",
        "print(np.__version__)\n",
        "import matplotlib.pyplot as plt\n"
      ],
      "metadata": {
        "colab": {
          "base_uri": "https://localhost:8080/"
        },
        "id": "0q5oHpePx6UI",
        "outputId": "abfa5fa6-2b0c-4521-8a4f-80c05b6c23a0"
      },
      "execution_count": 35,
      "outputs": [
        {
          "output_type": "stream",
          "name": "stdout",
          "text": [
            "3.11.11 (main, Dec  4 2024, 08:55:07) [GCC 11.4.0]\n",
            "2.18.0\n",
            "3.8.0\n",
            "3.8.0\n",
            "1.26.4\n"
          ]
        }
      ]
    },
    {
      "cell_type": "code",
      "source": [
        "from keras import layers\n",
        "# from tensorflow.keras import layers # alternative way to access keras\n",
        "from keras import models\n",
        "from keras import layers\n",
        "from keras import optimizers\n",
        "\n",
        "\n"
      ],
      "metadata": {
        "id": "nRz3CxyRyOp_"
      },
      "execution_count": 36,
      "outputs": []
    },
    {
      "cell_type": "code",
      "source": [
        "from keras.datasets import boston_housing\n",
        "(train_data, train_targets), (test_data, test_targets) = boston_housing.load_data()\n",
        "print(\"train_data.shape\", train_data.shape)\n",
        "# normalize the data\n",
        "mean=train_data.mean(axis=0)\n",
        "train_data-=mean\n",
        "std=train_data.std(axis=0)\n",
        "train_data/=std\n",
        "test_data-=mean\n",
        "test_data/=std"
      ],
      "metadata": {
        "colab": {
          "base_uri": "https://localhost:8080/"
        },
        "id": "ODP51-pJym46",
        "outputId": "25c04a1f-72bf-41df-e910-0d4a48f8463b"
      },
      "execution_count": 37,
      "outputs": [
        {
          "output_type": "stream",
          "name": "stdout",
          "text": [
            "train_data.shape (404, 13)\n"
          ]
        }
      ]
    },
    {
      "cell_type": "code",
      "source": [
        "model1=models.Sequential()\n",
        "model1.add(layers.Dense(32, activation='relu', input_shape=(train_data.shape[1],)))\n",
        "model1.add(layers.Dense(32, activation='relu'))\n",
        "model1.add(layers.Dense(1))\n",
        "\n",
        "model1.compile(optimizer='rmsprop', loss='mse', metrics=['mae'])\n",
        "\n",
        "model1.fit(train_data, train_targets, epochs=80, batch_size=16, verbose=0)\n",
        "test_mse_score, test_mae_score = model1.evaluate(test_data, test_targets)\n",
        "print('test_mae_score',np.round(test_mae_score))\n",
        "\n"
      ],
      "metadata": {
        "colab": {
          "base_uri": "https://localhost:8080/"
        },
        "id": "7UxSKSZmwCqH",
        "outputId": "ff5af87f-18f5-4ff4-ad38-0baefd7b83c7"
      },
      "execution_count": 38,
      "outputs": [
        {
          "output_type": "stream",
          "name": "stderr",
          "text": [
            "/usr/local/lib/python3.11/dist-packages/keras/src/layers/core/dense.py:87: UserWarning: Do not pass an `input_shape`/`input_dim` argument to a layer. When using Sequential models, prefer using an `Input(shape)` object as the first layer in the model instead.\n",
            "  super().__init__(activity_regularizer=activity_regularizer, **kwargs)\n"
          ]
        },
        {
          "output_type": "stream",
          "name": "stdout",
          "text": [
            "\u001b[1m4/4\u001b[0m \u001b[32m━━━━━━━━━━━━━━━━━━━━\u001b[0m\u001b[37m\u001b[0m \u001b[1m0s\u001b[0m 10ms/step - loss: 14.6820 - mae: 2.6051 \n",
            "test_mae_score 3.0\n"
          ]
        }
      ]
    },
    {
      "cell_type": "code",
      "source": [
        "model2=models.Sequential()\n",
        "model2.add(layers.Dense(128, activation='relu', input_shape=(train_data.shape[1],)))\n",
        "model2.add(layers.Dense(128, activation='relu'))\n",
        "model2.add(layers.Dense(1))\n",
        "\n",
        "model2.compile(optimizer='rmsprop', loss='mse', metrics=['mae'])\n",
        "\n",
        "model2.fit(train_data, train_targets, epochs=80, batch_size=16, verbose=0)\n",
        "model2.evaluate(test_data, test_targets)\n",
        "test_mse_score, test_mae_score = model2.evaluate(test_data, test_targets)\n",
        "print('test_mae_score',np.round(test_mae_score))\n"
      ],
      "metadata": {
        "colab": {
          "base_uri": "https://localhost:8080/"
        },
        "id": "uAWTv_uRxVOk",
        "outputId": "de38429d-8203-4085-cdf5-694d138e56b5"
      },
      "execution_count": 39,
      "outputs": [
        {
          "output_type": "stream",
          "name": "stdout",
          "text": [
            "\u001b[1m4/4\u001b[0m \u001b[32m━━━━━━━━━━━━━━━━━━━━\u001b[0m\u001b[37m\u001b[0m \u001b[1m0s\u001b[0m 9ms/step - loss: 12.0963 - mae: 2.5117 \n",
            "\u001b[1m4/4\u001b[0m \u001b[32m━━━━━━━━━━━━━━━━━━━━\u001b[0m\u001b[37m\u001b[0m \u001b[1m0s\u001b[0m 9ms/step - loss: 12.0963 - mae: 2.5117\n",
            "test_mae_score 3.0\n"
          ]
        }
      ]
    },
    {
      "cell_type": "markdown",
      "source": [
        "Convert the price prediction problem into a classification problem to predict whether the\n",
        "house price is \"high\" or \"low\" (e.g. use a price threshold of 21, any price lower is \"low\"\n",
        "price).\n"
      ],
      "metadata": {
        "id": "MzswxA8qycYJ"
      }
    },
    {
      "cell_type": "code",
      "source": [
        "from keras.datasets import boston_housing\n",
        "(train_data, train_targets), (test_data, test_targets) =boston_housing.load_data()\n",
        "plt.hist(test_targets)\n",
        "\n"
      ],
      "metadata": {
        "colab": {
          "base_uri": "https://localhost:8080/",
          "height": 501
        },
        "id": "12K5uAfWyd3C",
        "outputId": "88ac7930-13db-4f77-e880-e7e8448f19cd"
      },
      "execution_count": 40,
      "outputs": [
        {
          "output_type": "execute_result",
          "data": {
            "text/plain": [
              "(array([ 8.,  7., 13., 33., 18.,  8.,  9.,  0.,  2.,  4.]),\n",
              " array([ 5.6 , 10.04, 14.48, 18.92, 23.36, 27.8 , 32.24, 36.68, 41.12,\n",
              "        45.56, 50.  ]),\n",
              " <BarContainer object of 10 artists>)"
            ]
          },
          "metadata": {},
          "execution_count": 40
        },
        {
          "output_type": "display_data",
          "data": {
            "text/plain": [
              "<Figure size 640x480 with 1 Axes>"
            ],
            "image/png": "[encoded data removed]"
          },
          "metadata": {}
        }
      ]
    },
    {
      "cell_type": "code",
      "source": [
        "d_threshold = 21\n",
        "train_targets_class = []\n",
        "for val in train_targets:\n",
        "   if val < d_threshold:\n",
        "      train_targets_class.append(0)\n",
        "   else:\n",
        "      train_targets_class.append(1)\n",
        "test_targets_class = []\n",
        "for val in test_targets:\n",
        "    if val < d_threshold:\n",
        "       test_targets_class.append(0)\n",
        "    else:\n",
        "         test_targets_class.append(1)\n",
        "plt.hist(test_targets_class)"
      ],
      "metadata": {
        "colab": {
          "base_uri": "https://localhost:8080/",
          "height": 484
        },
        "id": "-Ez3ZMy7zn-c",
        "outputId": "53a2a4d4-19e7-4723-8a2c-df6b508356ac"
      },
      "execution_count": 41,
      "outputs": [
        {
          "output_type": "execute_result",
          "data": {
            "text/plain": [
              "(array([42.,  0.,  0.,  0.,  0.,  0.,  0.,  0.,  0., 60.]),\n",
              " array([0. , 0.1, 0.2, 0.3, 0.4, 0.5, 0.6, 0.7, 0.8, 0.9, 1. ]),\n",
              " <BarContainer object of 10 artists>)"
            ]
          },
          "metadata": {},
          "execution_count": 41
        },
        {
          "output_type": "display_data",
          "data": {
            "text/plain": [
              "<Figure size 640x480 with 1 Axes>"
            ],
            "image/png": "[encoded data removed]"
          },
          "metadata": {}
        }
      ]
    },
    {
      "cell_type": "markdown",
      "source": [
        "Train three models of neural networks for the data created in question 2 (classification\n",
        "task) with varying numbers of hidden layers and units and compare them based on their\n",
        "performance over the test set."
      ],
      "metadata": {
        "id": "jGFnjexgzxez"
      }
    },
    {
      "cell_type": "code",
      "source": [
        "model5 = models.Sequential()\n",
        "model5.add(layers.Dense(32, activation='relu', input_shape =(train_data.shape[1],)))\n",
        "model5.add(layers.Dense(32, activation='relu'))\n",
        "model5.add(layers.Dense(1, activation='sigmoid'))\n",
        "model5.compile(optimizer='rmsprop',loss='binary_crossentropy', metrics=['acc'])\n",
        "\n",
        "import tensorflow as tf\n",
        "\n",
        "# ... your existing code ...\n",
        "\n",
        "model5.fit(tf.cast(train_data, tf.float32), train_targets_class, epochs=80, batch_size=16, verbose=0)"
      ],
      "metadata": {
        "colab": {
          "base_uri": "https://localhost:8080/",
          "height": 597
        },
        "id": "12ARG5cCz0AM",
        "outputId": "e8796a87-4857-408f-9326-14589d0fc77c"
      },
      "execution_count": 42,
      "outputs": [
        {
          "output_type": "error",
          "ename": "ValueError",
          "evalue": "Unrecognized data type: x=[[1.23247e+00 0.00000e+00 8.14000e+00 ... 2.10000e+01 3.96900e+02\n  1.87200e+01]\n [2.17700e-02 8.25000e+01 2.03000e+00 ... 1.47000e+01 3.95380e+02\n  3.11000e+00]\n [4.89822e+00 0.00000e+00 1.81000e+01 ... 2.02000e+01 3.75520e+02\n  3.26000e+00]\n ...\n [3.46600e-02 3.50000e+01 6.06000e+00 ... 1.69000e+01 3.62250e+02\n  7.83000e+00]\n [2.14918e+00 0.00000e+00 1.95800e+01 ... 1.47000e+01 2.61950e+02\n  1.57900e+01]\n [1.43900e-02 6.00000e+01 2.93000e+00 ... 1.56000e+01 3.76700e+02\n  4.38000e+00]] (of type <class 'tensorflow.python.framework.ops.EagerTensor'>)",
          "traceback": [
            "\u001b[0;31m---------------------------------------------------------------------------\u001b[0m",
            "\u001b[0;31mValueError\u001b[0m                                Traceback (most recent call last)",
            "\u001b[0;32m<ipython-input-42-5a67f2a8c535>\u001b[0m in \u001b[0;36m<cell line: 0>\u001b[0;34m()\u001b[0m\n\u001b[1;32m      9\u001b[0m \u001b[0;31m# ... your existing code ...\u001b[0m\u001b[0;34m\u001b[0m\u001b[0;34m\u001b[0m\u001b[0m\n\u001b[1;32m     10\u001b[0m \u001b[0;34m\u001b[0m\u001b[0m\n\u001b[0;32m---> 11\u001b[0;31m \u001b[0mmodel5\u001b[0m\u001b[0;34m.\u001b[0m\u001b[0mfit\u001b[0m\u001b[0;34m(\u001b[0m\u001b[0mtf\u001b[0m\u001b[0;34m.\u001b[0m\u001b[0mcast\u001b[0m\u001b[0;34m(\u001b[0m\u001b[0mtrain_data\u001b[0m\u001b[0;34m,\u001b[0m \u001b[0mtf\u001b[0m\u001b[0;34m.\u001b[0m\u001b[0mfloat32\u001b[0m\u001b[0;34m)\u001b[0m\u001b[0;34m,\u001b[0m \u001b[0mtrain_targets_class\u001b[0m\u001b[0;34m,\u001b[0m \u001b[0mepochs\u001b[0m\u001b[0;34m=\u001b[0m\u001b[0;36m80\u001b[0m\u001b[0;34m,\u001b[0m \u001b[0mbatch_size\u001b[0m\u001b[0;34m=\u001b[0m\u001b[0;36m16\u001b[0m\u001b[0;34m,\u001b[0m \u001b[0mverbose\u001b[0m\u001b[0;34m=\u001b[0m\u001b[0;36m0\u001b[0m\u001b[0;34m)\u001b[0m\u001b[0;34m\u001b[0m\u001b[0;34m\u001b[0m\u001b[0m\n\u001b[0m",
            "\u001b[0;32m/usr/local/lib/python3.11/dist-packages/keras/src/utils/traceback_utils.py\u001b[0m in \u001b[0;36merror_handler\u001b[0;34m(*args, **kwargs)\u001b[0m\n\u001b[1;32m    120\u001b[0m             \u001b[0;31m# To get the full stack trace, call:\u001b[0m\u001b[0;34m\u001b[0m\u001b[0;34m\u001b[0m\u001b[0m\n\u001b[1;32m    121\u001b[0m             \u001b[0;31m# `keras.config.disable_traceback_filtering()`\u001b[0m\u001b[0;34m\u001b[0m\u001b[0;34m\u001b[0m\u001b[0m\n\u001b[0;32m--> 122\u001b[0;31m             \u001b[0;32mraise\u001b[0m \u001b[0me\u001b[0m\u001b[0;34m.\u001b[0m\u001b[0mwith_traceback\u001b[0m\u001b[0;34m(\u001b[0m\u001b[0mfiltered_tb\u001b[0m\u001b[0;34m)\u001b[0m \u001b[0;32mfrom\u001b[0m \u001b[0;32mNone\u001b[0m\u001b[0;34m\u001b[0m\u001b[0;34m\u001b[0m\u001b[0m\n\u001b[0m\u001b[1;32m    123\u001b[0m         \u001b[0;32mfinally\u001b[0m\u001b[0;34m:\u001b[0m\u001b[0;34m\u001b[0m\u001b[0;34m\u001b[0m\u001b[0m\n\u001b[1;32m    124\u001b[0m             \u001b[0;32mdel\u001b[0m \u001b[0mfiltered_tb\u001b[0m\u001b[0;34m\u001b[0m\u001b[0;34m\u001b[0m\u001b[0m\n",
            "\u001b[0;32m/usr/local/lib/python3.11/dist-packages/keras/src/trainers/data_adapters/__init__.py\u001b[0m in \u001b[0;36mget_data_adapter\u001b[0;34m(x, y, sample_weight, batch_size, steps_per_epoch, shuffle, class_weight)\u001b[0m\n\u001b[1;32m    123\u001b[0m         \u001b[0;31m# )\u001b[0m\u001b[0;34m\u001b[0m\u001b[0;34m\u001b[0m\u001b[0m\n\u001b[1;32m    124\u001b[0m     \u001b[0;32melse\u001b[0m\u001b[0;34m:\u001b[0m\u001b[0;34m\u001b[0m\u001b[0;34m\u001b[0m\u001b[0m\n\u001b[0;32m--> 125\u001b[0;31m         \u001b[0;32mraise\u001b[0m \u001b[0mValueError\u001b[0m\u001b[0;34m(\u001b[0m\u001b[0;34mf\"Unrecognized data type: x={x} (of type {type(x)})\"\u001b[0m\u001b[0;34m)\u001b[0m\u001b[0;34m\u001b[0m\u001b[0;34m\u001b[0m\u001b[0m\n\u001b[0m\u001b[1;32m    126\u001b[0m \u001b[0;34m\u001b[0m\u001b[0m\n\u001b[1;32m    127\u001b[0m \u001b[0;34m\u001b[0m\u001b[0m\n",
            "\u001b[0;31mValueError\u001b[0m: Unrecognized data type: x=[[1.23247e+00 0.00000e+00 8.14000e+00 ... 2.10000e+01 3.96900e+02\n  1.87200e+01]\n [2.17700e-02 8.25000e+01 2.03000e+00 ... 1.47000e+01 3.95380e+02\n  3.11000e+00]\n [4.89822e+00 0.00000e+00 1.81000e+01 ... 2.02000e+01 3.75520e+02\n  3.26000e+00]\n ...\n [3.46600e-02 3.50000e+01 6.06000e+00 ... 1.69000e+01 3.62250e+02\n  7.83000e+00]\n [2.14918e+00 0.00000e+00 1.95800e+01 ... 1.47000e+01 2.61950e+02\n  1.57900e+01]\n [1.43900e-02 6.00000e+01 2.93000e+00 ... 1.56000e+01 3.76700e+02\n  4.38000e+00]] (of type <class 'tensorflow.python.framework.ops.EagerTensor'>)"
          ]
        }
      ]
    },
    {
      "cell_type": "code",
      "source": [
        "\n",
        "model5.fit(train_data, train_targets_class, epochs=80,batch_size=16, verbose=0)\n"
      ],
      "metadata": {
        "colab": {
          "base_uri": "https://localhost:8080/",
          "height": 543
        },
        "id": "qJCrkUZT0nYg",
        "outputId": "ce29f80c-94e4-4c0f-9a54-5b299fa46c90"
      },
      "execution_count": 43,
      "outputs": [
        {
          "output_type": "error",
          "ename": "ValueError",
          "evalue": "Unrecognized data type: x=[[1.23247e+00 0.00000e+00 8.14000e+00 ... 2.10000e+01 3.96900e+02\n  1.87200e+01]\n [2.17700e-02 8.25000e+01 2.03000e+00 ... 1.47000e+01 3.95380e+02\n  3.11000e+00]\n [4.89822e+00 0.00000e+00 1.81000e+01 ... 2.02000e+01 3.75520e+02\n  3.26000e+00]\n ...\n [3.46600e-02 3.50000e+01 6.06000e+00 ... 1.69000e+01 3.62250e+02\n  7.83000e+00]\n [2.14918e+00 0.00000e+00 1.95800e+01 ... 1.47000e+01 2.61950e+02\n  1.57900e+01]\n [1.43900e-02 6.00000e+01 2.93000e+00 ... 1.56000e+01 3.76700e+02\n  4.38000e+00]] (of type <class 'numpy.ndarray'>)",
          "traceback": [
            "\u001b[0;31m---------------------------------------------------------------------------\u001b[0m",
            "\u001b[0;31mValueError\u001b[0m                                Traceback (most recent call last)",
            "\u001b[0;32m<ipython-input-43-c72590df7815>\u001b[0m in \u001b[0;36m<cell line: 0>\u001b[0;34m()\u001b[0m\n\u001b[0;32m----> 1\u001b[0;31m \u001b[0mmodel5\u001b[0m\u001b[0;34m.\u001b[0m\u001b[0mfit\u001b[0m\u001b[0;34m(\u001b[0m\u001b[0mtrain_data\u001b[0m\u001b[0;34m,\u001b[0m \u001b[0mtrain_targets_class\u001b[0m\u001b[0;34m,\u001b[0m \u001b[0mepochs\u001b[0m\u001b[0;34m=\u001b[0m\u001b[0;36m80\u001b[0m\u001b[0;34m,\u001b[0m\u001b[0mbatch_size\u001b[0m\u001b[0;34m=\u001b[0m\u001b[0;36m16\u001b[0m\u001b[0;34m,\u001b[0m \u001b[0mverbose\u001b[0m\u001b[0;34m=\u001b[0m\u001b[0;36m0\u001b[0m\u001b[0;34m)\u001b[0m\u001b[0;34m\u001b[0m\u001b[0;34m\u001b[0m\u001b[0m\n\u001b[0m",
            "\u001b[0;32m/usr/local/lib/python3.11/dist-packages/keras/src/utils/traceback_utils.py\u001b[0m in \u001b[0;36merror_handler\u001b[0;34m(*args, **kwargs)\u001b[0m\n\u001b[1;32m    120\u001b[0m             \u001b[0;31m# To get the full stack trace, call:\u001b[0m\u001b[0;34m\u001b[0m\u001b[0;34m\u001b[0m\u001b[0m\n\u001b[1;32m    121\u001b[0m             \u001b[0;31m# `keras.config.disable_traceback_filtering()`\u001b[0m\u001b[0;34m\u001b[0m\u001b[0;34m\u001b[0m\u001b[0m\n\u001b[0;32m--> 122\u001b[0;31m             \u001b[0;32mraise\u001b[0m \u001b[0me\u001b[0m\u001b[0;34m.\u001b[0m\u001b[0mwith_traceback\u001b[0m\u001b[0;34m(\u001b[0m\u001b[0mfiltered_tb\u001b[0m\u001b[0;34m)\u001b[0m \u001b[0;32mfrom\u001b[0m \u001b[0;32mNone\u001b[0m\u001b[0;34m\u001b[0m\u001b[0;34m\u001b[0m\u001b[0m\n\u001b[0m\u001b[1;32m    123\u001b[0m         \u001b[0;32mfinally\u001b[0m\u001b[0;34m:\u001b[0m\u001b[0;34m\u001b[0m\u001b[0;34m\u001b[0m\u001b[0m\n\u001b[1;32m    124\u001b[0m             \u001b[0;32mdel\u001b[0m \u001b[0mfiltered_tb\u001b[0m\u001b[0;34m\u001b[0m\u001b[0;34m\u001b[0m\u001b[0m\n",
            "\u001b[0;32m/usr/local/lib/python3.11/dist-packages/keras/src/trainers/data_adapters/__init__.py\u001b[0m in \u001b[0;36mget_data_adapter\u001b[0;34m(x, y, sample_weight, batch_size, steps_per_epoch, shuffle, class_weight)\u001b[0m\n\u001b[1;32m    123\u001b[0m         \u001b[0;31m# )\u001b[0m\u001b[0;34m\u001b[0m\u001b[0;34m\u001b[0m\u001b[0m\n\u001b[1;32m    124\u001b[0m     \u001b[0;32melse\u001b[0m\u001b[0;34m:\u001b[0m\u001b[0;34m\u001b[0m\u001b[0;34m\u001b[0m\u001b[0m\n\u001b[0;32m--> 125\u001b[0;31m         \u001b[0;32mraise\u001b[0m \u001b[0mValueError\u001b[0m\u001b[0;34m(\u001b[0m\u001b[0;34mf\"Unrecognized data type: x={x} (of type {type(x)})\"\u001b[0m\u001b[0;34m)\u001b[0m\u001b[0;34m\u001b[0m\u001b[0;34m\u001b[0m\u001b[0m\n\u001b[0m\u001b[1;32m    126\u001b[0m \u001b[0;34m\u001b[0m\u001b[0m\n\u001b[1;32m    127\u001b[0m \u001b[0;34m\u001b[0m\u001b[0m\n",
            "\u001b[0;31mValueError\u001b[0m: Unrecognized data type: x=[[1.23247e+00 0.00000e+00 8.14000e+00 ... 2.10000e+01 3.96900e+02\n  1.87200e+01]\n [2.17700e-02 8.25000e+01 2.03000e+00 ... 1.47000e+01 3.95380e+02\n  3.11000e+00]\n [4.89822e+00 0.00000e+00 1.81000e+01 ... 2.02000e+01 3.75520e+02\n  3.26000e+00]\n ...\n [3.46600e-02 3.50000e+01 6.06000e+00 ... 1.69000e+01 3.62250e+02\n  7.83000e+00]\n [2.14918e+00 0.00000e+00 1.95800e+01 ... 1.47000e+01 2.61950e+02\n  1.57900e+01]\n [1.43900e-02 6.00000e+01 2.93000e+00 ... 1.56000e+01 3.76700e+02\n  4.38000e+00]] (of type <class 'numpy.ndarray'>)"
          ]
        }
      ]
    },
    {
      "cell_type": "code",
      "source": [
        "model6 = models.Sequential()\n",
        "model6.add(layers.Dense(64, activation='relu', input_shape =(train_data.shape[1],)))\n",
        "model6.add(layers.Dense(64, activation='relu'))\n",
        "model6.add(layers.Dense(1, activation='sigmoid'))\n",
        "model6.compile(optimizer='rmsprop',loss='binary_crossentropy', metrics=['acc'])\n",
        "model6.fit(train_data, train_targets_class, epochs=80,batch_size=16, verbose=0)\n",
        "\n",
        "test_loss, test_acc = model6.evaluate(test_data,\n",
        "test_targets_class)\n"
      ],
      "metadata": {
        "colab": {
          "base_uri": "https://localhost:8080/",
          "height": 615
        },
        "id": "PfmuPYUh21-l",
        "outputId": "838145ca-f2aa-4918-ed3f-13d670c911c0"
      },
      "execution_count": 44,
      "outputs": [
        {
          "output_type": "error",
          "ename": "ValueError",
          "evalue": "Unrecognized data type: x=[[1.23247e+00 0.00000e+00 8.14000e+00 ... 2.10000e+01 3.96900e+02\n  1.87200e+01]\n [2.17700e-02 8.25000e+01 2.03000e+00 ... 1.47000e+01 3.95380e+02\n  3.11000e+00]\n [4.89822e+00 0.00000e+00 1.81000e+01 ... 2.02000e+01 3.75520e+02\n  3.26000e+00]\n ...\n [3.46600e-02 3.50000e+01 6.06000e+00 ... 1.69000e+01 3.62250e+02\n  7.83000e+00]\n [2.14918e+00 0.00000e+00 1.95800e+01 ... 1.47000e+01 2.61950e+02\n  1.57900e+01]\n [1.43900e-02 6.00000e+01 2.93000e+00 ... 1.56000e+01 3.76700e+02\n  4.38000e+00]] (of type <class 'numpy.ndarray'>)",
          "traceback": [
            "\u001b[0;31m---------------------------------------------------------------------------\u001b[0m",
            "\u001b[0;31mValueError\u001b[0m                                Traceback (most recent call last)",
            "\u001b[0;32m<ipython-input-44-fcbfc9439d7e>\u001b[0m in \u001b[0;36m<cell line: 0>\u001b[0;34m()\u001b[0m\n\u001b[1;32m      4\u001b[0m \u001b[0mmodel6\u001b[0m\u001b[0;34m.\u001b[0m\u001b[0madd\u001b[0m\u001b[0;34m(\u001b[0m\u001b[0mlayers\u001b[0m\u001b[0;34m.\u001b[0m\u001b[0mDense\u001b[0m\u001b[0;34m(\u001b[0m\u001b[0;36m1\u001b[0m\u001b[0;34m,\u001b[0m \u001b[0mactivation\u001b[0m\u001b[0;34m=\u001b[0m\u001b[0;34m'sigmoid'\u001b[0m\u001b[0;34m)\u001b[0m\u001b[0;34m)\u001b[0m\u001b[0;34m\u001b[0m\u001b[0;34m\u001b[0m\u001b[0m\n\u001b[1;32m      5\u001b[0m \u001b[0mmodel6\u001b[0m\u001b[0;34m.\u001b[0m\u001b[0mcompile\u001b[0m\u001b[0;34m(\u001b[0m\u001b[0moptimizer\u001b[0m\u001b[0;34m=\u001b[0m\u001b[0;34m'rmsprop'\u001b[0m\u001b[0;34m,\u001b[0m\u001b[0mloss\u001b[0m\u001b[0;34m=\u001b[0m\u001b[0;34m'binary_crossentropy'\u001b[0m\u001b[0;34m,\u001b[0m \u001b[0mmetrics\u001b[0m\u001b[0;34m=\u001b[0m\u001b[0;34m[\u001b[0m\u001b[0;34m'acc'\u001b[0m\u001b[0;34m]\u001b[0m\u001b[0;34m)\u001b[0m\u001b[0;34m\u001b[0m\u001b[0;34m\u001b[0m\u001b[0m\n\u001b[0;32m----> 6\u001b[0;31m \u001b[0mmodel6\u001b[0m\u001b[0;34m.\u001b[0m\u001b[0mfit\u001b[0m\u001b[0;34m(\u001b[0m\u001b[0mtrain_data\u001b[0m\u001b[0;34m,\u001b[0m \u001b[0mtrain_targets_class\u001b[0m\u001b[0;34m,\u001b[0m \u001b[0mepochs\u001b[0m\u001b[0;34m=\u001b[0m\u001b[0;36m80\u001b[0m\u001b[0;34m,\u001b[0m\u001b[0mbatch_size\u001b[0m\u001b[0;34m=\u001b[0m\u001b[0;36m16\u001b[0m\u001b[0;34m,\u001b[0m \u001b[0mverbose\u001b[0m\u001b[0;34m=\u001b[0m\u001b[0;36m0\u001b[0m\u001b[0;34m)\u001b[0m\u001b[0;34m\u001b[0m\u001b[0;34m\u001b[0m\u001b[0m\n\u001b[0m\u001b[1;32m      7\u001b[0m \u001b[0;34m\u001b[0m\u001b[0m\n\u001b[1;32m      8\u001b[0m test_loss, test_acc = model6.evaluate(test_data,\n",
            "\u001b[0;32m/usr/local/lib/python3.11/dist-packages/keras/src/utils/traceback_utils.py\u001b[0m in \u001b[0;36merror_handler\u001b[0;34m(*args, **kwargs)\u001b[0m\n\u001b[1;32m    120\u001b[0m             \u001b[0;31m# To get the full stack trace, call:\u001b[0m\u001b[0;34m\u001b[0m\u001b[0;34m\u001b[0m\u001b[0m\n\u001b[1;32m    121\u001b[0m             \u001b[0;31m# `keras.config.disable_traceback_filtering()`\u001b[0m\u001b[0;34m\u001b[0m\u001b[0;34m\u001b[0m\u001b[0m\n\u001b[0;32m--> 122\u001b[0;31m             \u001b[0;32mraise\u001b[0m \u001b[0me\u001b[0m\u001b[0;34m.\u001b[0m\u001b[0mwith_traceback\u001b[0m\u001b[0;34m(\u001b[0m\u001b[0mfiltered_tb\u001b[0m\u001b[0;34m)\u001b[0m \u001b[0;32mfrom\u001b[0m \u001b[0;32mNone\u001b[0m\u001b[0;34m\u001b[0m\u001b[0;34m\u001b[0m\u001b[0m\n\u001b[0m\u001b[1;32m    123\u001b[0m         \u001b[0;32mfinally\u001b[0m\u001b[0;34m:\u001b[0m\u001b[0;34m\u001b[0m\u001b[0;34m\u001b[0m\u001b[0m\n\u001b[1;32m    124\u001b[0m             \u001b[0;32mdel\u001b[0m \u001b[0mfiltered_tb\u001b[0m\u001b[0;34m\u001b[0m\u001b[0;34m\u001b[0m\u001b[0m\n",
            "\u001b[0;32m/usr/local/lib/python3.11/dist-packages/keras/src/trainers/data_adapters/__init__.py\u001b[0m in \u001b[0;36mget_data_adapter\u001b[0;34m(x, y, sample_weight, batch_size, steps_per_epoch, shuffle, class_weight)\u001b[0m\n\u001b[1;32m    123\u001b[0m         \u001b[0;31m# )\u001b[0m\u001b[0;34m\u001b[0m\u001b[0;34m\u001b[0m\u001b[0m\n\u001b[1;32m    124\u001b[0m     \u001b[0;32melse\u001b[0m\u001b[0;34m:\u001b[0m\u001b[0;34m\u001b[0m\u001b[0;34m\u001b[0m\u001b[0m\n\u001b[0;32m--> 125\u001b[0;31m         \u001b[0;32mraise\u001b[0m \u001b[0mValueError\u001b[0m\u001b[0;34m(\u001b[0m\u001b[0;34mf\"Unrecognized data type: x={x} (of type {type(x)})\"\u001b[0m\u001b[0;34m)\u001b[0m\u001b[0;34m\u001b[0m\u001b[0;34m\u001b[0m\u001b[0m\n\u001b[0m\u001b[1;32m    126\u001b[0m \u001b[0;34m\u001b[0m\u001b[0m\n\u001b[1;32m    127\u001b[0m \u001b[0;34m\u001b[0m\u001b[0m\n",
            "\u001b[0;31mValueError\u001b[0m: Unrecognized data type: x=[[1.23247e+00 0.00000e+00 8.14000e+00 ... 2.10000e+01 3.96900e+02\n  1.87200e+01]\n [2.17700e-02 8.25000e+01 2.03000e+00 ... 1.47000e+01 3.95380e+02\n  3.11000e+00]\n [4.89822e+00 0.00000e+00 1.81000e+01 ... 2.02000e+01 3.75520e+02\n  3.26000e+00]\n ...\n [3.46600e-02 3.50000e+01 6.06000e+00 ... 1.69000e+01 3.62250e+02\n  7.83000e+00]\n [2.14918e+00 0.00000e+00 1.95800e+01 ... 1.47000e+01 2.61950e+02\n  1.57900e+01]\n [1.43900e-02 6.00000e+01 2.93000e+00 ... 1.56000e+01 3.76700e+02\n  4.38000e+00]] (of type <class 'numpy.ndarray'>)"
          ]
        }
      ]
    }
  ]
}